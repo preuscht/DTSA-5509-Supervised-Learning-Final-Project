{
 "cells": [
  {
   "cell_type": "markdown",
   "id": "c0e517a4-2d22-46cb-8364-8976ee0a9414",
   "metadata": {},
   "source": [
    "### Summary\n",
    "For my final project I have chosen to compete in a kaggle competition. <br>\n",
    "The competition is being put on by HM clothing and the goal is to predict what shoppers will buy in the next 7 days after their last purchase.\n",
    "\n",
    "The competition details are here -> https://www.kaggle.com/c/h-and-m-personalized-fashion-recommendations\n"
   ]
  },
  {
   "cell_type": "markdown",
   "id": "19b030a3-f502-4b48-9091-4d80a6135b1d",
   "metadata": {},
   "source": [
    "### Data\n",
    "\n",
    "The data"
   ]
  },
  {
   "cell_type": "code",
   "execution_count": null,
   "id": "c375cdb2-806b-47a1-be4f-505b7592812b",
   "metadata": {},
   "outputs": [],
   "source": []
  }
 ],
 "metadata": {
  "kernelspec": {
   "display_name": "Python 3 (ipykernel)",
   "language": "python",
   "name": "python3"
  },
  "language_info": {
   "codemirror_mode": {
    "name": "ipython",
    "version": 3
   },
   "file_extension": ".py",
   "mimetype": "text/x-python",
   "name": "python",
   "nbconvert_exporter": "python",
   "pygments_lexer": "ipython3",
   "version": "3.10.1"
  }
 },
 "nbformat": 4,
 "nbformat_minor": 5
}
